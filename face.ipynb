{
 "cells": [
  {
   "cell_type": "code",
   "execution_count": 1,
   "id": "e3dfea4c",
   "metadata": {},
   "outputs": [],
   "source": [
    "# pip install opencv-python"
   ]
  },
  {
   "cell_type": "code",
   "execution_count": 25,
   "id": "2a434a00",
   "metadata": {},
   "outputs": [],
   "source": [
    "# Face\n",
    "import urllib\n",
    "import cv2 as cv2\n",
    "import numpy as np"
   ]
  },
  {
   "cell_type": "code",
   "execution_count": 32,
   "id": "0c171c5a",
   "metadata": {},
   "outputs": [],
   "source": [
    "url = \"https://thumbs.dreamstime.com/z/estudantes-alegres-felizes-novos-que-fazem-o-selfie-na-turma-escolar-131779684.jpg\"\n",
    "#url = \"https://m.leiaja.com/sites/default/files/field/image/lazer/2018/jolie.jpg\"\n",
    "#url = \"https://contigo.uol.com.br/media/_versions/legacy/2019/12/13/sandy-e-junior-faz-festa-de-confraternizacao-de-fim-de-ano-com-grupo-de-bailarinos-da-turne-1203244_widelg.jpg\"\n",
    "url_response = urllib.request.urlopen(url)\n",
    "img_array = np.array(bytearray(url_response.read()), dtype=np.uint8)\n",
    "img = cv2.imdecode(img_array, -1)\n",
    "cv2.imshow('URL Image', img)"
   ]
  },
  {
   "cell_type": "code",
   "execution_count": 33,
   "id": "76c3125b",
   "metadata": {},
   "outputs": [],
   "source": [
    "iPB = cv2.cvtColor(img, cv2.COLOR_BGR2GRAY)"
   ]
  },
  {
   "cell_type": "code",
   "execution_count": 38,
   "id": "724ffd9a",
   "metadata": {},
   "outputs": [
    {
     "data": {
      "text/plain": [
       "array([[201, 201, 201, ..., 190, 189, 192],\n",
       "       [201, 201, 201, ..., 190, 189, 192],\n",
       "       [201, 201, 201, ..., 190, 189, 192],\n",
       "       ...,\n",
       "       [ 94,  94,  94, ...,  94,  94,  94],\n",
       "       [ 94,  94,  94, ...,  94,  94,  94],\n",
       "       [ 94,  94,  94, ...,  94,  94,  94]], dtype=uint8)"
      ]
     },
     "execution_count": 38,
     "metadata": {},
     "output_type": "execute_result"
    }
   ],
   "source": [
    "iPB"
   ]
  },
  {
   "cell_type": "code",
   "execution_count": 34,
   "id": "2c210e0f",
   "metadata": {},
   "outputs": [],
   "source": [
    "#Criação do detector de faces\n",
    "df = cv2.CascadeClassifier('frontalface.xml')"
   ]
  },
  {
   "cell_type": "code",
   "execution_count": 35,
   "id": "4adb2b58",
   "metadata": {},
   "outputs": [],
   "source": [
    "#Executa a detecção\n",
    "faces = df.detectMultiScale(iPB, scaleFactor = 1.05, minNeighbors = 7, minSize = (10,10), flags = cv2.CASCADE_SCALE_IMAGE)"
   ]
  },
  {
   "cell_type": "code",
   "execution_count": 36,
   "id": "71579a7c",
   "metadata": {},
   "outputs": [],
   "source": [
    "#Desenha retangulos amarelos na iamgem original (colorida)\n",
    "for (x, y, w, h) in faces:\n",
    " cv2.rectangle(img, (x, y), (x + w, y + h), (0, 255, 255), 7)"
   ]
  },
  {
   "cell_type": "code",
   "execution_count": 37,
   "id": "b7b809ed",
   "metadata": {},
   "outputs": [
    {
     "data": {
      "text/plain": [
       "-1"
      ]
     },
     "execution_count": 37,
     "metadata": {},
     "output_type": "execute_result"
    }
   ],
   "source": [
    "#Exibe imagem. Título da janela exibe número de faces\n",
    "cv2.imshow(str(len(faces))+' face(s) encontrada(s).', img)\n",
    "cv2.waitKey(0)"
   ]
  },
  {
   "cell_type": "code",
   "execution_count": null,
   "id": "5f4fcca1",
   "metadata": {},
   "outputs": [],
   "source": []
  }
 ],
 "metadata": {
  "kernelspec": {
   "display_name": "Python 3 (ipykernel)",
   "language": "python",
   "name": "python3"
  },
  "language_info": {
   "codemirror_mode": {
    "name": "ipython",
    "version": 3
   },
   "file_extension": ".py",
   "mimetype": "text/x-python",
   "name": "python",
   "nbconvert_exporter": "python",
   "pygments_lexer": "ipython3",
   "version": "3.9.7"
  }
 },
 "nbformat": 4,
 "nbformat_minor": 5
}
